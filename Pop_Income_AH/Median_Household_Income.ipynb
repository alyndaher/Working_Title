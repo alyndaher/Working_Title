{
 "cells": [
  {
   "cell_type": "code",
   "execution_count": 1,
   "metadata": {},
   "outputs": [],
   "source": [
    "import pandas as pd\n",
    "import matplotlib.pyplot as plt\n",
    "import numpy as np\n",
    "from scipy.stats import stats"
   ]
  },
  {
   "cell_type": "code",
   "execution_count": 2,
   "metadata": {},
   "outputs": [],
   "source": [
    "file_path = \"Income_data\\combined.csv\"\n",
    "\n",
    "income_df = pd.read_csv(file_path)"
   ]
  },
  {
   "cell_type": "code",
   "execution_count": 3,
   "metadata": {},
   "outputs": [
    {
     "data": {
      "text/html": [
       "<div>\n",
       "<style scoped>\n",
       "    .dataframe tbody tr th:only-of-type {\n",
       "        vertical-align: middle;\n",
       "    }\n",
       "\n",
       "    .dataframe tbody tr th {\n",
       "        vertical-align: top;\n",
       "    }\n",
       "\n",
       "    .dataframe thead th {\n",
       "        text-align: right;\n",
       "    }\n",
       "</style>\n",
       "<table border=\"1\" class=\"dataframe\">\n",
       "  <thead>\n",
       "    <tr style=\"text-align: right;\">\n",
       "      <th></th>\n",
       "      <th>Year</th>\n",
       "      <th>State or county name</th>\n",
       "      <th>Estimate of median household income</th>\n",
       "    </tr>\n",
       "  </thead>\n",
       "  <tbody>\n",
       "    <tr>\n",
       "      <th>0</th>\n",
       "      <td>2010</td>\n",
       "      <td>Minnesota</td>\n",
       "      <td>55422</td>\n",
       "    </tr>\n",
       "    <tr>\n",
       "      <th>1</th>\n",
       "      <td>2010</td>\n",
       "      <td>Aitkin County</td>\n",
       "      <td>38646</td>\n",
       "    </tr>\n",
       "    <tr>\n",
       "      <th>2</th>\n",
       "      <td>2010</td>\n",
       "      <td>Anoka County</td>\n",
       "      <td>65732</td>\n",
       "    </tr>\n",
       "    <tr>\n",
       "      <th>3</th>\n",
       "      <td>2010</td>\n",
       "      <td>Becker County</td>\n",
       "      <td>43970</td>\n",
       "    </tr>\n",
       "    <tr>\n",
       "      <th>4</th>\n",
       "      <td>2010</td>\n",
       "      <td>Beltrami County</td>\n",
       "      <td>40308</td>\n",
       "    </tr>\n",
       "    <tr>\n",
       "      <th>...</th>\n",
       "      <td>...</td>\n",
       "      <td>...</td>\n",
       "      <td>...</td>\n",
       "    </tr>\n",
       "    <tr>\n",
       "      <th>523</th>\n",
       "      <td>2015</td>\n",
       "      <td>Watonwan County</td>\n",
       "      <td>48044</td>\n",
       "    </tr>\n",
       "    <tr>\n",
       "      <th>524</th>\n",
       "      <td>2015</td>\n",
       "      <td>Wilkin County</td>\n",
       "      <td>56583</td>\n",
       "    </tr>\n",
       "    <tr>\n",
       "      <th>525</th>\n",
       "      <td>2015</td>\n",
       "      <td>Winona County</td>\n",
       "      <td>54367</td>\n",
       "    </tr>\n",
       "    <tr>\n",
       "      <th>526</th>\n",
       "      <td>2015</td>\n",
       "      <td>Wright County</td>\n",
       "      <td>76407</td>\n",
       "    </tr>\n",
       "    <tr>\n",
       "      <th>527</th>\n",
       "      <td>2015</td>\n",
       "      <td>Yellow Medicine County</td>\n",
       "      <td>51569</td>\n",
       "    </tr>\n",
       "  </tbody>\n",
       "</table>\n",
       "<p>528 rows × 3 columns</p>\n",
       "</div>"
      ],
      "text/plain": [
       "     Year    State or county name  Estimate of median household income\n",
       "0    2010               Minnesota                                55422\n",
       "1    2010           Aitkin County                                38646\n",
       "2    2010            Anoka County                                65732\n",
       "3    2010           Becker County                                43970\n",
       "4    2010         Beltrami County                                40308\n",
       "..    ...                     ...                                  ...\n",
       "523  2015         Watonwan County                                48044\n",
       "524  2015           Wilkin County                                56583\n",
       "525  2015           Winona County                                54367\n",
       "526  2015           Wright County                                76407\n",
       "527  2015  Yellow Medicine County                                51569\n",
       "\n",
       "[528 rows x 3 columns]"
      ]
     },
     "execution_count": 3,
     "metadata": {},
     "output_type": "execute_result"
    }
   ],
   "source": [
    "#Only grab relevant columns\n",
    "income_df1 = income_df[['Year','State or county name','Estimate of median household income']]\n",
    "income_df1"
   ]
  },
  {
   "cell_type": "code",
   "execution_count": 4,
   "metadata": {},
   "outputs": [
    {
     "data": {
      "text/html": [
       "<div>\n",
       "<style scoped>\n",
       "    .dataframe tbody tr th:only-of-type {\n",
       "        vertical-align: middle;\n",
       "    }\n",
       "\n",
       "    .dataframe tbody tr th {\n",
       "        vertical-align: top;\n",
       "    }\n",
       "\n",
       "    .dataframe thead th {\n",
       "        text-align: right;\n",
       "    }\n",
       "</style>\n",
       "<table border=\"1\" class=\"dataframe\">\n",
       "  <thead>\n",
       "    <tr style=\"text-align: right;\">\n",
       "      <th></th>\n",
       "      <th>Year</th>\n",
       "      <th>State or county name</th>\n",
       "      <th>Estimate of median household income</th>\n",
       "    </tr>\n",
       "  </thead>\n",
       "  <tbody>\n",
       "    <tr>\n",
       "      <th>2</th>\n",
       "      <td>2010</td>\n",
       "      <td>Anoka County</td>\n",
       "      <td>65732</td>\n",
       "    </tr>\n",
       "    <tr>\n",
       "      <th>354</th>\n",
       "      <td>2014</td>\n",
       "      <td>Anoka County</td>\n",
       "      <td>70868</td>\n",
       "    </tr>\n",
       "    <tr>\n",
       "      <th>266</th>\n",
       "      <td>2013</td>\n",
       "      <td>Anoka County</td>\n",
       "      <td>70619</td>\n",
       "    </tr>\n",
       "    <tr>\n",
       "      <th>178</th>\n",
       "      <td>2012</td>\n",
       "      <td>Anoka County</td>\n",
       "      <td>67811</td>\n",
       "    </tr>\n",
       "    <tr>\n",
       "      <th>90</th>\n",
       "      <td>2011</td>\n",
       "      <td>Anoka County</td>\n",
       "      <td>63799</td>\n",
       "    </tr>\n",
       "  </tbody>\n",
       "</table>\n",
       "</div>"
      ],
      "text/plain": [
       "     Year State or county name  Estimate of median household income\n",
       "2    2010         Anoka County                                65732\n",
       "354  2014         Anoka County                                70868\n",
       "266  2013         Anoka County                                70619\n",
       "178  2012         Anoka County                                67811\n",
       "90   2011         Anoka County                                63799"
      ]
     },
     "execution_count": 4,
     "metadata": {},
     "output_type": "execute_result"
    }
   ],
   "source": [
    "#filter 7 metro counties in MN\n",
    "county = ['Anoka County','Carver County', 'Hennepin County', 'Dakota County','Ramsey County','Scott County','Washington County']\n",
    "income_df1 = income_df1.loc[income_df1['State or county name'].isin(county)]\n",
    "income_df1 = income_df1.sort_values(by = 'State or county name', ascending = True)\n",
    "income_df1.head()"
   ]
  },
  {
   "cell_type": "code",
   "execution_count": 5,
   "metadata": {},
   "outputs": [
    {
     "data": {
      "text/html": [
       "<div>\n",
       "<style scoped>\n",
       "    .dataframe tbody tr th:only-of-type {\n",
       "        vertical-align: middle;\n",
       "    }\n",
       "\n",
       "    .dataframe tbody tr th {\n",
       "        vertical-align: top;\n",
       "    }\n",
       "\n",
       "    .dataframe thead th {\n",
       "        text-align: right;\n",
       "    }\n",
       "</style>\n",
       "<table border=\"1\" class=\"dataframe\">\n",
       "  <thead>\n",
       "    <tr style=\"text-align: right;\">\n",
       "      <th></th>\n",
       "      <th>County</th>\n",
       "      <th>Converted_Income (thousands)</th>\n",
       "    </tr>\n",
       "  </thead>\n",
       "  <tbody>\n",
       "    <tr>\n",
       "      <th>0</th>\n",
       "      <td>Anoka</td>\n",
       "      <td>68.68417</td>\n",
       "    </tr>\n",
       "    <tr>\n",
       "      <th>1</th>\n",
       "      <td>Carver</td>\n",
       "      <td>86.90483</td>\n",
       "    </tr>\n",
       "    <tr>\n",
       "      <th>2</th>\n",
       "      <td>Dakota</td>\n",
       "      <td>73.16733</td>\n",
       "    </tr>\n",
       "    <tr>\n",
       "      <th>3</th>\n",
       "      <td>Hennepin</td>\n",
       "      <td>63.38100</td>\n",
       "    </tr>\n",
       "    <tr>\n",
       "      <th>4</th>\n",
       "      <td>Ramsey</td>\n",
       "      <td>54.05200</td>\n",
       "    </tr>\n",
       "    <tr>\n",
       "      <th>5</th>\n",
       "      <td>Scott</td>\n",
       "      <td>86.04733</td>\n",
       "    </tr>\n",
       "    <tr>\n",
       "      <th>6</th>\n",
       "      <td>Washington</td>\n",
       "      <td>81.46683</td>\n",
       "    </tr>\n",
       "  </tbody>\n",
       "</table>\n",
       "</div>"
      ],
      "text/plain": [
       "        County  Converted_Income (thousands)\n",
       "0       Anoka                       68.68417\n",
       "1      Carver                       86.90483\n",
       "2      Dakota                       73.16733\n",
       "3    Hennepin                       63.38100\n",
       "4      Ramsey                       54.05200\n",
       "5       Scott                       86.04733\n",
       "6  Washington                       81.46683"
      ]
     },
     "execution_count": 5,
     "metadata": {},
     "output_type": "execute_result"
    }
   ],
   "source": [
    "#take average of median household income in 2010-2015 by County\n",
    "income_df1 = round(income_df1.groupby('State or county name').mean(),2)\n",
    "income_df1 = income_df1.drop(['Year'], axis =1)\n",
    "income_df1 = income_df1.reset_index()\n",
    "income_df1_renamed = income_df1.rename(columns = {'Estimate of median household income':'AVG Median Household Income (2010-2015)',\n",
    "                                                 'State or county name':'County'})\n",
    "\n",
    "#create a new column named 'Converted_Income' by dividing by 1000\n",
    "income_df1_renamed['County'] = income_df1_renamed['County'].str.replace(\"County\", \"\", case = False)\n",
    "income_df1_renamed['Converted_Income (thousands)'] = income_df1_renamed['AVG Median Household Income (2010-2015)']/1000\n",
    "income_df1_renamed = income_df1_renamed.drop(columns=['AVG Median Household Income (2010-2015)'],axis=1)\n",
    "income_df1_renamed.to_csv('income_final.csv')\n",
    "income_df1_renamed"
   ]
  },
  {
   "cell_type": "code",
   "execution_count": 6,
   "metadata": {},
   "outputs": [
    {
     "data": {
      "text/html": [
       "<div>\n",
       "<style scoped>\n",
       "    .dataframe tbody tr th:only-of-type {\n",
       "        vertical-align: middle;\n",
       "    }\n",
       "\n",
       "    .dataframe tbody tr th {\n",
       "        vertical-align: top;\n",
       "    }\n",
       "\n",
       "    .dataframe thead th {\n",
       "        text-align: right;\n",
       "    }\n",
       "</style>\n",
       "<table border=\"1\" class=\"dataframe\">\n",
       "  <thead>\n",
       "    <tr style=\"text-align: right;\">\n",
       "      <th></th>\n",
       "      <th>County</th>\n",
       "      <th>Life Expectancy</th>\n",
       "    </tr>\n",
       "  </thead>\n",
       "  <tbody>\n",
       "    <tr>\n",
       "      <th>0</th>\n",
       "      <td>Anoka</td>\n",
       "      <td>80.140260</td>\n",
       "    </tr>\n",
       "    <tr>\n",
       "      <th>1</th>\n",
       "      <td>Carver</td>\n",
       "      <td>82.370588</td>\n",
       "    </tr>\n",
       "    <tr>\n",
       "      <th>2</th>\n",
       "      <td>Dakota</td>\n",
       "      <td>80.683333</td>\n",
       "    </tr>\n",
       "    <tr>\n",
       "      <th>3</th>\n",
       "      <td>Hennepin</td>\n",
       "      <td>80.320438</td>\n",
       "    </tr>\n",
       "    <tr>\n",
       "      <th>4</th>\n",
       "      <td>Ramsey</td>\n",
       "      <td>79.533846</td>\n",
       "    </tr>\n",
       "    <tr>\n",
       "      <th>5</th>\n",
       "      <td>Scott</td>\n",
       "      <td>80.809524</td>\n",
       "    </tr>\n",
       "    <tr>\n",
       "      <th>6</th>\n",
       "      <td>Washington</td>\n",
       "      <td>81.847917</td>\n",
       "    </tr>\n",
       "  </tbody>\n",
       "</table>\n",
       "</div>"
      ],
      "text/plain": [
       "        County  Life Expectancy\n",
       "0       Anoka         80.140260\n",
       "1      Carver         82.370588\n",
       "2      Dakota         80.683333\n",
       "3    Hennepin         80.320438\n",
       "4      Ramsey         79.533846\n",
       "5       Scott         80.809524\n",
       "6  Washington         81.847917"
      ]
     },
     "execution_count": 6,
     "metadata": {},
     "output_type": "execute_result"
    }
   ],
   "source": [
    "#read lfe expectancy csv\n",
    "life_path = 'life_data\\life.csv'\n",
    "life_df = pd.read_csv(life_path)\n",
    "life_df = life_df.drop(['Unnamed: 0'], axis =1)\n",
    "\n",
    "#drop text 'County, MN' in County column\n",
    "life_df['County'] = life_df['County'].str.replace(\"County, MN\", \"\", case = False) \n",
    "life_df"
   ]
  },
  {
   "cell_type": "code",
   "execution_count": 7,
   "metadata": {},
   "outputs": [
    {
     "data": {
      "text/html": [
       "<div>\n",
       "<style scoped>\n",
       "    .dataframe tbody tr th:only-of-type {\n",
       "        vertical-align: middle;\n",
       "    }\n",
       "\n",
       "    .dataframe tbody tr th {\n",
       "        vertical-align: top;\n",
       "    }\n",
       "\n",
       "    .dataframe thead th {\n",
       "        text-align: right;\n",
       "    }\n",
       "</style>\n",
       "<table border=\"1\" class=\"dataframe\">\n",
       "  <thead>\n",
       "    <tr style=\"text-align: right;\">\n",
       "      <th></th>\n",
       "      <th>County</th>\n",
       "      <th>Converted_Income (thousands)</th>\n",
       "      <th>Life Expectancy</th>\n",
       "    </tr>\n",
       "  </thead>\n",
       "  <tbody>\n",
       "    <tr>\n",
       "      <th>0</th>\n",
       "      <td>Anoka</td>\n",
       "      <td>68.68417</td>\n",
       "      <td>80.140260</td>\n",
       "    </tr>\n",
       "    <tr>\n",
       "      <th>1</th>\n",
       "      <td>Carver</td>\n",
       "      <td>86.90483</td>\n",
       "      <td>82.370588</td>\n",
       "    </tr>\n",
       "    <tr>\n",
       "      <th>2</th>\n",
       "      <td>Dakota</td>\n",
       "      <td>73.16733</td>\n",
       "      <td>80.683333</td>\n",
       "    </tr>\n",
       "    <tr>\n",
       "      <th>3</th>\n",
       "      <td>Hennepin</td>\n",
       "      <td>63.38100</td>\n",
       "      <td>80.320438</td>\n",
       "    </tr>\n",
       "    <tr>\n",
       "      <th>4</th>\n",
       "      <td>Ramsey</td>\n",
       "      <td>54.05200</td>\n",
       "      <td>79.533846</td>\n",
       "    </tr>\n",
       "    <tr>\n",
       "      <th>5</th>\n",
       "      <td>Scott</td>\n",
       "      <td>86.04733</td>\n",
       "      <td>80.809524</td>\n",
       "    </tr>\n",
       "    <tr>\n",
       "      <th>6</th>\n",
       "      <td>Washington</td>\n",
       "      <td>81.46683</td>\n",
       "      <td>81.847917</td>\n",
       "    </tr>\n",
       "  </tbody>\n",
       "</table>\n",
       "</div>"
      ],
      "text/plain": [
       "        County  Converted_Income (thousands)  Life Expectancy\n",
       "0       Anoka                       68.68417        80.140260\n",
       "1      Carver                       86.90483        82.370588\n",
       "2      Dakota                       73.16733        80.683333\n",
       "3    Hennepin                       63.38100        80.320438\n",
       "4      Ramsey                       54.05200        79.533846\n",
       "5       Scott                       86.04733        80.809524\n",
       "6  Washington                       81.46683        81.847917"
      ]
     },
     "execution_count": 7,
     "metadata": {},
     "output_type": "execute_result"
    }
   ],
   "source": [
    "#merge the two data frames on County\n",
    "merged_df = pd.merge(income_df1_renamed,life_df, on ='County')\n",
    "merged_df"
   ]
  },
  {
   "cell_type": "code",
   "execution_count": 8,
   "metadata": {},
   "outputs": [
    {
     "data": {
      "image/png": "[encoded data removed]",
      "text/plain": [
       "<Figure size 432x288 with 1 Axes>"
      ]
     },
     "metadata": {
      "needs_background": "light"
     },
     "output_type": "display_data"
    },
    {
     "data": {
      "text/plain": [
       "<Figure size 432x288 with 0 Axes>"
      ]
     },
     "metadata": {},
     "output_type": "display_data"
    }
   ],
   "source": [
    "#create bar chart\n",
    "x_axis = np.arange(len(merged_df))\n",
    "tick_locations = [value for value in x_axis]\n",
    "\n",
    "plt.bar(x_axis, merged_df['Converted_Income (thousands)'], color ='y',alpha=0.5, align=\"center\")\n",
    "plt.xticks(tick_locations, merged_df['County'],rotation ='45')\n",
    "plt.ylabel('Income (thousands)')\n",
    "plt.title('Seven MN Metro Counties \\n Avg Median Household Income (2010-2015)')\n",
    "\n",
    "#get current figure with plt.gcf()\n",
    "fig1 = plt.gcf()\n",
    "plt.tight_layout()\n",
    "plt.show()\n",
    "plt.draw()\n",
    "fig1.savefig('Income_barchart.png',dpi = 300)"
   ]
  },
  {
   "cell_type": "code",
   "execution_count": 9,
   "metadata": {},
   "outputs": [
    {
     "data": {
      "image/png": "[encoded data removed]",
      "text/plain": [
       "<Figure size 432x288 with 1 Axes>"
      ]
     },
     "metadata": {
      "needs_background": "light"
     },
     "output_type": "display_data"
    }
   ],
   "source": [
    "plt.scatter(merged_df['Converted_Income (thousands)'],merged_df['Life Expectancy'], edgecolors='black')\n",
    "plt.grid(color='grey', linestyle='-', linewidth=1)\n",
    "plt.xlabel('Income (thousands)')\n",
    "plt.ylabel('Life Expectancy')\n",
    "plt.title('Seven MN Metro Counties \\n Life Expectancy vs Avg Median Household Income (2010-2015)')\n",
    "plt.show()"
   ]
  },
  {
   "cell_type": "code",
   "execution_count": 10,
   "metadata": {},
   "outputs": [
    {
     "data": {
      "image/png": "[encoded data removed]",
      "text/plain": [
       "<Figure size 432x288 with 1 Axes>"
      ]
     },
     "metadata": {
      "needs_background": "light"
     },
     "output_type": "display_data"
    }
   ],
   "source": [
    "#perform linear regression\n",
    "n_slope, n_int, n_r, n_p, n_std_err = stats.linregress(merged_df['Converted_Income (thousands)'],merged_df['Life Expectancy'])\n",
    "\n",
    "#regression equation line\n",
    "n_fit = n_slope * merged_df['Converted_Income (thousands)'] + n_int\n",
    "\n",
    "#line equation\n",
    "line_eq = 'y =' + str(round(n_slope,4)) + \"x +\" + str(round(n_int,2))\n",
    "\n",
    "#plot labels\n",
    "x = merged_df['Converted_Income (thousands)']\n",
    "y = merged_df['Life Expectancy']\n",
    "z = merged_df['County']\n",
    "\n",
    "\n",
    "fig, ax = plt.subplots()\n",
    "plt.scatter(merged_df['Converted_Income (thousands)'],merged_df['Life Expectancy'], edgecolors=\"black\")\n",
    "plt.grid(color='grey', linestyle='-', linewidth=1)\n",
    "plt.plot(merged_df['Converted_Income (thousands)'],n_fit,\"--\",color=\"red\")\n",
    "plt.annotate(line_eq,xy=(56,81.5),fontsize=15,color='blue')\n",
    "\n",
    "\n",
    "#for loop to print labels on the plots\n",
    "for i, txt in enumerate(z):\n",
    "    ax.annotate(txt, (x[i], y[i]), textcoords=\"offset points\", # how to position the text\n",
    "                 xytext=(5,0),ha='left')\n",
    "\n",
    "plt.xlabel(\"Income (thousands)\")\n",
    "plt.ylabel(\"Life Expectancy\")\n",
    "plt.title(\"Seven MN Metro Counties \\n Life Expectancy vs Avg Median Household Income (2010-2015)\")\n",
    "plt.show()\n",
    "\n",
    "fig.savefig('LifeExpectancy_vs_Income.png',dpi=300)\n"
   ]
  },
  {
   "cell_type": "code",
   "execution_count": 11,
   "metadata": {},
   "outputs": [
    {
     "name": "stdout",
     "output_type": "stream",
     "text": [
      "The r-value is 0.8558.\n",
      "The p-value is 0.014.\n",
      "The standard error is 0.0186.\n"
     ]
    }
   ],
   "source": [
    "print(f'The r-value is {round(n_r,4)}.')\n",
    "print(f'The p-value is {round(n_p,4)}.')\n",
    "print(f'The standard error is {round(n_std_err,4)}.')"
   ]
  },
  {
   "cell_type": "code",
   "execution_count": 12,
   "metadata": {},
   "outputs": [
    {
     "name": "stdout",
     "output_type": "stream",
     "text": [
      "The correlation coefficient is 0.8558207182130088.\n"
     ]
    }
   ],
   "source": [
    "coef = stats.pearsonr(merged_df['Converted_Income (thousands)'], merged_df['Life Expectancy'])\n",
    "print(f'The correlation coefficient is {coef[0]}.')"
   ]
  },
  {
   "cell_type": "markdown",
   "metadata": {},
   "source": [
    "## Summary of Findings"
   ]
  },
  {
   "cell_type": "markdown",
   "metadata": {},
   "source": [
    "* Ramsey and Hennepin county has lower average of median household from 2010-2015 (estimated 54,000 and 63,000 respectively). \n",
    "* Scott and Carver county has the higher average of median household from 2010-2015 (estimated 86,000 and 87,000 respectively).\n",
    "* There is a strong positive relationship (correlation coefficient: 0.8558) between average median household income and life expectancy.\n",
    "* With every additional 1,000 dollars in average median household income, this would increase the average life expectancy by 0.0688.  "
   ]
  },
  {
   "cell_type": "code",
   "execution_count": null,
   "metadata": {},
   "outputs": [],
   "source": []
  }
 ],
 "metadata": {
  "kernelspec": {
   "display_name": "Python 3",
   "language": "python",
   "name": "python3"
  },
  "language_info": {
   "codemirror_mode": {
    "name": "ipython",
    "version": 3
   },
   "file_extension": ".py",
   "mimetype": "text/x-python",
   "name": "python",
   "nbconvert_exporter": "python",
   "pygments_lexer": "ipython3",
   "version": "3.6.10"
  }
 },
 "nbformat": 4,
 "nbformat_minor": 4
}
