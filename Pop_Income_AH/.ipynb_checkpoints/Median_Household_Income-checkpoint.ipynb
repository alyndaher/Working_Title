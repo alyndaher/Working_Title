{
 "cells": [
  {
   "cell_type": "code",
<<<<<<< HEAD
   "execution_count": 161,
=======
   "execution_count": 2,
>>>>>>> dbcf68af8348eaac0e080760393fd472bab195b5
   "metadata": {},
   "outputs": [],
   "source": [
    "import pandas as pd\n",
    "import matplotlib.pyplot as plt\n",
    "import numpy as np\n",
    "from scipy.stats import stats"
   ]
  },
  {
   "cell_type": "code",
<<<<<<< HEAD
   "execution_count": 162,
=======
   "execution_count": 3,
>>>>>>> dbcf68af8348eaac0e080760393fd472bab195b5
   "metadata": {},
   "outputs": [],
   "source": [
    "file_path = \"Income_data\\combined.csv\"\n",
    "\n",
    "income_df = pd.read_csv(file_path)"
   ]
  },
  {
   "cell_type": "code",
<<<<<<< HEAD
   "execution_count": 163,
=======
   "execution_count": 4,
>>>>>>> dbcf68af8348eaac0e080760393fd472bab195b5
   "metadata": {},
   "outputs": [
    {
     "data": {
      "text/html": [
       "<div>\n",
       "<style scoped>\n",
       "    .dataframe tbody tr th:only-of-type {\n",
       "        vertical-align: middle;\n",
       "    }\n",
       "\n",
       "    .dataframe tbody tr th {\n",
       "        vertical-align: top;\n",
       "    }\n",
       "\n",
       "    .dataframe thead th {\n",
       "        text-align: right;\n",
       "    }\n",
       "</style>\n",
       "<table border=\"1\" class=\"dataframe\">\n",
       "  <thead>\n",
       "    <tr style=\"text-align: right;\">\n",
       "      <th></th>\n",
       "      <th>Year</th>\n",
       "      <th>State or county name</th>\n",
       "      <th>Estimate of median household income</th>\n",
       "    </tr>\n",
       "  </thead>\n",
       "  <tbody>\n",
       "    <tr>\n",
       "      <th>0</th>\n",
       "      <td>2010</td>\n",
       "      <td>Minnesota</td>\n",
       "      <td>55422</td>\n",
       "    </tr>\n",
       "    <tr>\n",
       "      <th>1</th>\n",
       "      <td>2010</td>\n",
       "      <td>Aitkin County</td>\n",
       "      <td>38646</td>\n",
       "    </tr>\n",
       "    <tr>\n",
       "      <th>2</th>\n",
       "      <td>2010</td>\n",
       "      <td>Anoka County</td>\n",
       "      <td>65732</td>\n",
       "    </tr>\n",
       "    <tr>\n",
       "      <th>3</th>\n",
       "      <td>2010</td>\n",
       "      <td>Becker County</td>\n",
       "      <td>43970</td>\n",
       "    </tr>\n",
       "    <tr>\n",
       "      <th>4</th>\n",
       "      <td>2010</td>\n",
       "      <td>Beltrami County</td>\n",
       "      <td>40308</td>\n",
       "    </tr>\n",
       "    <tr>\n",
       "      <th>...</th>\n",
       "      <td>...</td>\n",
       "      <td>...</td>\n",
       "      <td>...</td>\n",
       "    </tr>\n",
       "    <tr>\n",
       "      <th>523</th>\n",
       "      <td>2015</td>\n",
       "      <td>Watonwan County</td>\n",
       "      <td>48044</td>\n",
       "    </tr>\n",
       "    <tr>\n",
       "      <th>524</th>\n",
       "      <td>2015</td>\n",
       "      <td>Wilkin County</td>\n",
       "      <td>56583</td>\n",
       "    </tr>\n",
       "    <tr>\n",
       "      <th>525</th>\n",
       "      <td>2015</td>\n",
       "      <td>Winona County</td>\n",
       "      <td>54367</td>\n",
       "    </tr>\n",
       "    <tr>\n",
       "      <th>526</th>\n",
       "      <td>2015</td>\n",
       "      <td>Wright County</td>\n",
       "      <td>76407</td>\n",
       "    </tr>\n",
       "    <tr>\n",
       "      <th>527</th>\n",
       "      <td>2015</td>\n",
       "      <td>Yellow Medicine County</td>\n",
       "      <td>51569</td>\n",
       "    </tr>\n",
       "  </tbody>\n",
       "</table>\n",
       "<p>528 rows × 3 columns</p>\n",
       "</div>"
      ],
      "text/plain": [
       "     Year    State or county name  Estimate of median household income\n",
       "0    2010               Minnesota                                55422\n",
       "1    2010           Aitkin County                                38646\n",
       "2    2010            Anoka County                                65732\n",
       "3    2010           Becker County                                43970\n",
       "4    2010         Beltrami County                                40308\n",
       "..    ...                     ...                                  ...\n",
       "523  2015         Watonwan County                                48044\n",
       "524  2015           Wilkin County                                56583\n",
       "525  2015           Winona County                                54367\n",
       "526  2015           Wright County                                76407\n",
       "527  2015  Yellow Medicine County                                51569\n",
       "\n",
       "[528 rows x 3 columns]"
      ]
     },
<<<<<<< HEAD
     "execution_count": 163,
=======
     "execution_count": 4,
>>>>>>> dbcf68af8348eaac0e080760393fd472bab195b5
     "metadata": {},
     "output_type": "execute_result"
    }
   ],
   "source": [
    "income_df1 = income_df[['Year','State or county name','Estimate of median household income']]\n",
    "income_df1"
   ]
  },
  {
   "cell_type": "code",
<<<<<<< HEAD
   "execution_count": 164,
=======
   "execution_count": 5,
>>>>>>> dbcf68af8348eaac0e080760393fd472bab195b5
   "metadata": {},
   "outputs": [
    {
     "data": {
      "text/html": [
       "<div>\n",
       "<style scoped>\n",
       "    .dataframe tbody tr th:only-of-type {\n",
       "        vertical-align: middle;\n",
       "    }\n",
       "\n",
       "    .dataframe tbody tr th {\n",
       "        vertical-align: top;\n",
       "    }\n",
       "\n",
       "    .dataframe thead th {\n",
       "        text-align: right;\n",
       "    }\n",
       "</style>\n",
       "<table border=\"1\" class=\"dataframe\">\n",
       "  <thead>\n",
       "    <tr style=\"text-align: right;\">\n",
       "      <th></th>\n",
       "      <th>Year</th>\n",
       "      <th>State or county name</th>\n",
       "      <th>Estimate of median household income</th>\n",
       "    </tr>\n",
       "  </thead>\n",
       "  <tbody>\n",
       "    <tr>\n",
       "      <th>2</th>\n",
       "      <td>2010</td>\n",
       "      <td>Anoka County</td>\n",
       "      <td>65732</td>\n",
       "    </tr>\n",
       "    <tr>\n",
       "      <th>354</th>\n",
       "      <td>2014</td>\n",
       "      <td>Anoka County</td>\n",
       "      <td>70868</td>\n",
       "    </tr>\n",
       "    <tr>\n",
       "      <th>266</th>\n",
       "      <td>2013</td>\n",
       "      <td>Anoka County</td>\n",
       "      <td>70619</td>\n",
       "    </tr>\n",
       "    <tr>\n",
       "      <th>178</th>\n",
       "      <td>2012</td>\n",
       "      <td>Anoka County</td>\n",
       "      <td>67811</td>\n",
       "    </tr>\n",
       "    <tr>\n",
       "      <th>90</th>\n",
       "      <td>2011</td>\n",
       "      <td>Anoka County</td>\n",
       "      <td>63799</td>\n",
       "    </tr>\n",
       "  </tbody>\n",
       "</table>\n",
       "</div>"
      ],
      "text/plain": [
       "     Year State or county name  Estimate of median household income\n",
       "2    2010         Anoka County                                65732\n",
       "354  2014         Anoka County                                70868\n",
       "266  2013         Anoka County                                70619\n",
       "178  2012         Anoka County                                67811\n",
       "90   2011         Anoka County                                63799"
      ]
     },
<<<<<<< HEAD
     "execution_count": 164,
=======
     "execution_count": 5,
>>>>>>> dbcf68af8348eaac0e080760393fd472bab195b5
     "metadata": {},
     "output_type": "execute_result"
    }
   ],
   "source": [
    "county = ['Anoka County','Carver County', 'Hennepin County', 'Dakota County','Ramsey County','Scott County','Washington County']\n",
    "income_df1 = income_df1.loc[income_df1['State or county name'].isin(county)]\n",
    "income_df1 = income_df1.sort_values(by = 'State or county name', ascending = True)\n",
    "income_df1.head()"
   ]
  },
  {
   "cell_type": "code",
<<<<<<< HEAD
   "execution_count": 165,
=======
   "execution_count": 6,
>>>>>>> dbcf68af8348eaac0e080760393fd472bab195b5
   "metadata": {},
   "outputs": [
    {
     "data": {
      "text/html": [
       "<div>\n",
       "<style scoped>\n",
       "    .dataframe tbody tr th:only-of-type {\n",
       "        vertical-align: middle;\n",
       "    }\n",
       "\n",
       "    .dataframe tbody tr th {\n",
       "        vertical-align: top;\n",
       "    }\n",
       "\n",
       "    .dataframe thead th {\n",
       "        text-align: right;\n",
       "    }\n",
       "</style>\n",
       "<table border=\"1\" class=\"dataframe\">\n",
       "  <thead>\n",
       "    <tr style=\"text-align: right;\">\n",
       "      <th></th>\n",
       "      <th>County</th>\n",
       "      <th>Converted_Income (thousands)</th>\n",
       "    </tr>\n",
       "  </thead>\n",
       "  <tbody>\n",
       "    <tr>\n",
       "      <th>0</th>\n",
       "      <td>Anoka</td>\n",
       "      <td>68.68417</td>\n",
       "    </tr>\n",
       "    <tr>\n",
       "      <th>1</th>\n",
       "      <td>Carver</td>\n",
       "      <td>86.90483</td>\n",
       "    </tr>\n",
       "    <tr>\n",
       "      <th>2</th>\n",
       "      <td>Dakota</td>\n",
       "      <td>73.16733</td>\n",
       "    </tr>\n",
       "    <tr>\n",
       "      <th>3</th>\n",
       "      <td>Hennepin</td>\n",
       "      <td>63.38100</td>\n",
       "    </tr>\n",
       "    <tr>\n",
       "      <th>4</th>\n",
       "      <td>Ramsey</td>\n",
       "      <td>54.05200</td>\n",
       "    </tr>\n",
       "    <tr>\n",
       "      <th>5</th>\n",
       "      <td>Scott</td>\n",
       "      <td>86.04733</td>\n",
       "    </tr>\n",
       "    <tr>\n",
       "      <th>6</th>\n",
       "      <td>Washington</td>\n",
       "      <td>81.46683</td>\n",
       "    </tr>\n",
       "  </tbody>\n",
       "</table>\n",
       "</div>"
      ],
      "text/plain": [
       "        County  Converted_Income (thousands)\n",
       "0       Anoka                       68.68417\n",
       "1      Carver                       86.90483\n",
       "2      Dakota                       73.16733\n",
       "3    Hennepin                       63.38100\n",
       "4      Ramsey                       54.05200\n",
       "5       Scott                       86.04733\n",
       "6  Washington                       81.46683"
      ]
     },
<<<<<<< HEAD
     "execution_count": 165,
=======
     "execution_count": 6,
>>>>>>> dbcf68af8348eaac0e080760393fd472bab195b5
     "metadata": {},
     "output_type": "execute_result"
    }
   ],
   "source": [
    "income_df1 = round(income_df1.groupby('State or county name').mean(),2)\n",
    "income_df1 = income_df1.drop(['Year'], axis =1)\n",
    "income_df1 = income_df1.reset_index()\n",
    "income_df1_renamed = income_df1.rename(columns = {'Estimate of median household income':'AVG Median Household Income (2010-2015)',\n",
    "                                                 'State or county name':'County'})\n",
    "\n",
    "income_df1_renamed['County'] = income_df1_renamed['County'].str.replace(\"County\", \"\", case = False)\n",
    "income_df1_renamed['Converted_Income (thousands)'] = income_df1_renamed['AVG Median Household Income (2010-2015)']/1000\n",
    "income_df1_renamed = income_df1_renamed.drop(columns=['AVG Median Household Income (2010-2015)'],axis=1)\n",
    "income_df1_renamed.to_csv('income_final.csv')\n",
    "income_df1_renamed"
   ]
  },
  {
   "cell_type": "code",
<<<<<<< HEAD
   "execution_count": 166,
=======
   "execution_count": 7,
>>>>>>> dbcf68af8348eaac0e080760393fd472bab195b5
   "metadata": {},
   "outputs": [
    {
     "data": {
      "text/html": [
       "<div>\n",
       "<style scoped>\n",
       "    .dataframe tbody tr th:only-of-type {\n",
       "        vertical-align: middle;\n",
       "    }\n",
       "\n",
       "    .dataframe tbody tr th {\n",
       "        vertical-align: top;\n",
       "    }\n",
       "\n",
       "    .dataframe thead th {\n",
       "        text-align: right;\n",
       "    }\n",
       "</style>\n",
       "<table border=\"1\" class=\"dataframe\">\n",
       "  <thead>\n",
       "    <tr style=\"text-align: right;\">\n",
       "      <th></th>\n",
       "      <th>County</th>\n",
       "      <th>Life Expectancy</th>\n",
       "    </tr>\n",
       "  </thead>\n",
       "  <tbody>\n",
       "    <tr>\n",
       "      <th>0</th>\n",
       "      <td>Anoka</td>\n",
       "      <td>80.140260</td>\n",
       "    </tr>\n",
       "    <tr>\n",
       "      <th>1</th>\n",
       "      <td>Carver</td>\n",
       "      <td>82.370588</td>\n",
       "    </tr>\n",
       "    <tr>\n",
       "      <th>2</th>\n",
       "      <td>Dakota</td>\n",
       "      <td>80.683333</td>\n",
       "    </tr>\n",
       "    <tr>\n",
       "      <th>3</th>\n",
       "      <td>Hennepin</td>\n",
       "      <td>80.320438</td>\n",
       "    </tr>\n",
       "    <tr>\n",
       "      <th>4</th>\n",
       "      <td>Ramsey</td>\n",
       "      <td>79.533846</td>\n",
       "    </tr>\n",
       "    <tr>\n",
       "      <th>5</th>\n",
       "      <td>Scott</td>\n",
       "      <td>80.809524</td>\n",
       "    </tr>\n",
       "    <tr>\n",
       "      <th>6</th>\n",
       "      <td>Washington</td>\n",
       "      <td>81.847917</td>\n",
       "    </tr>\n",
       "  </tbody>\n",
       "</table>\n",
       "</div>"
      ],
      "text/plain": [
       "        County  Life Expectancy\n",
       "0       Anoka         80.140260\n",
       "1      Carver         82.370588\n",
       "2      Dakota         80.683333\n",
       "3    Hennepin         80.320438\n",
       "4      Ramsey         79.533846\n",
       "5       Scott         80.809524\n",
       "6  Washington         81.847917"
      ]
     },
<<<<<<< HEAD
     "execution_count": 166,
=======
     "execution_count": 7,
>>>>>>> dbcf68af8348eaac0e080760393fd472bab195b5
     "metadata": {},
     "output_type": "execute_result"
    }
   ],
   "source": [
    "life_path = 'life_data\\life.csv'\n",
    "life_df = pd.read_csv(life_path)\n",
    "life_df = life_df.drop(['Unnamed: 0'], axis =1)\n",
    "life_df['County'] = life_df['County'].str.replace(\"County, MN\", \"\", case = False) \n",
    "life_df"
   ]
  },
  {
   "cell_type": "code",
<<<<<<< HEAD
   "execution_count": 168,
=======
   "execution_count": 8,
>>>>>>> dbcf68af8348eaac0e080760393fd472bab195b5
   "metadata": {},
   "outputs": [
    {
     "data": {
      "text/html": [
       "<div>\n",
       "<style scoped>\n",
       "    .dataframe tbody tr th:only-of-type {\n",
       "        vertical-align: middle;\n",
       "    }\n",
       "\n",
       "    .dataframe tbody tr th {\n",
       "        vertical-align: top;\n",
       "    }\n",
       "\n",
       "    .dataframe thead th {\n",
       "        text-align: right;\n",
       "    }\n",
       "</style>\n",
       "<table border=\"1\" class=\"dataframe\">\n",
       "  <thead>\n",
       "    <tr style=\"text-align: right;\">\n",
       "      <th></th>\n",
       "      <th>County</th>\n",
       "      <th>Converted_Income (thousands)</th>\n",
       "      <th>Life Expectancy</th>\n",
       "    </tr>\n",
       "  </thead>\n",
       "  <tbody>\n",
       "    <tr>\n",
       "      <th>4</th>\n",
       "      <td>Ramsey</td>\n",
       "      <td>54.05200</td>\n",
       "      <td>79.533846</td>\n",
       "    </tr>\n",
       "    <tr>\n",
       "      <th>3</th>\n",
       "      <td>Hennepin</td>\n",
       "      <td>63.38100</td>\n",
       "      <td>80.320438</td>\n",
       "    </tr>\n",
       "    <tr>\n",
       "      <th>0</th>\n",
       "      <td>Anoka</td>\n",
       "      <td>68.68417</td>\n",
       "      <td>80.140260</td>\n",
       "    </tr>\n",
       "    <tr>\n",
       "      <th>2</th>\n",
       "      <td>Dakota</td>\n",
       "      <td>73.16733</td>\n",
       "      <td>80.683333</td>\n",
       "    </tr>\n",
       "    <tr>\n",
       "      <th>6</th>\n",
       "      <td>Washington</td>\n",
       "      <td>81.46683</td>\n",
       "      <td>81.847917</td>\n",
       "    </tr>\n",
       "    <tr>\n",
       "      <th>5</th>\n",
       "      <td>Scott</td>\n",
       "      <td>86.04733</td>\n",
       "      <td>80.809524</td>\n",
       "    </tr>\n",
       "    <tr>\n",
       "      <th>1</th>\n",
       "      <td>Carver</td>\n",
       "      <td>86.90483</td>\n",
       "      <td>82.370588</td>\n",
       "    </tr>\n",
       "  </tbody>\n",
       "</table>\n",
       "</div>"
      ],
      "text/plain": [
       "        County  Converted_Income (thousands)  Life Expectancy\n",
       "4      Ramsey                       54.05200        79.533846\n",
       "3    Hennepin                       63.38100        80.320438\n",
       "0       Anoka                       68.68417        80.140260\n",
       "2      Dakota                       73.16733        80.683333\n",
       "6  Washington                       81.46683        81.847917\n",
       "5       Scott                       86.04733        80.809524\n",
       "1      Carver                       86.90483        82.370588"
      ]
     },
<<<<<<< HEAD
     "execution_count": 168,
=======
     "execution_count": 8,
>>>>>>> dbcf68af8348eaac0e080760393fd472bab195b5
     "metadata": {},
     "output_type": "execute_result"
    }
   ],
   "source": [
    "#merge the two data frames on County\n",
    "merged_df = pd.merge(income_df1_renamed,life_df, on ='County')\n",
    "merged_df = merged_df.sort_values(by='Converted_Income (thousands)', ascending=True)\n",
    "merged_df"
   ]
  },
  {
   "cell_type": "code",
<<<<<<< HEAD
   "execution_count": 180,
=======
   "execution_count": 9,
>>>>>>> dbcf68af8348eaac0e080760393fd472bab195b5
   "metadata": {},
   "outputs": [
    {
     "data": {
      "image/png": "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\n",
      "text/plain": [
       "<Figure size 432x288 with 1 Axes>"
      ]
     },
     "metadata": {
      "needs_background": "light"
     },
     "output_type": "display_data"
    },
    {
     "data": {
      "text/plain": [
       "<Figure size 432x288 with 0 Axes>"
      ]
     },
     "metadata": {},
     "output_type": "display_data"
    }
   ],
   "source": [
    "#create bar chart\n",
    "x_axis = np.arange(len(merged_df))\n",
    "tick_locations = [value for value in x_axis]\n",
    "\n",
    "plt.bar(x_axis, merged_df['Converted_Income (thousands)'], color ='y',alpha=0.5, align=\"center\")\n",
    "plt.xticks(tick_locations, merged_df['County'],rotation ='45')\n",
    "plt.ylabel('Income (thousands)')\n",
    "plt.title('Seven MN Metro Counties \\n Avg Median Household Income (2010-2015)')\n",
    "\n",
    "#get curret figure with plt.gcf()\n",
    "fig1 = plt.gcf()\n",
    "plt.tight_layout()\n",
    "plt.show()\n",
    "plt.draw()\n",
    "fig1.savefig('Income_barchart.png',dpi = 300)"
   ]
  },
  {
   "cell_type": "code",
<<<<<<< HEAD
   "execution_count": 171,
=======
   "execution_count": 10,
>>>>>>> dbcf68af8348eaac0e080760393fd472bab195b5
   "metadata": {},
   "outputs": [
    {
     "data": {
      "image/png": "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\n",
      "text/plain": [
       "<Figure size 432x288 with 1 Axes>"
      ]
     },
     "metadata": {
      "needs_background": "light"
     },
     "output_type": "display_data"
    }
   ],
   "source": [
    "plt.scatter(merged_df['Converted_Income (thousands)'],merged_df['Life Expectancy'], edgecolors='black')\n",
    "plt.grid(color='grey', linestyle='-', linewidth=1)\n",
    "plt.xlabel('Income (thousands)')\n",
    "plt.ylabel('Life Expectancy')\n",
    "plt.title('Seven MN Metro Counties \\n Life Expectancy vs Avg Median Household Income (2010-2015)')\n",
    "plt.show()"
   ]
  },
  {
   "cell_type": "code",
<<<<<<< HEAD
   "execution_count": 179,
=======
   "execution_count": 11,
>>>>>>> dbcf68af8348eaac0e080760393fd472bab195b5
   "metadata": {},
   "outputs": [
    {
     "data": {
      "image/png": "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\n",
      "text/plain": [
       "<Figure size 432x288 with 1 Axes>"
      ]
     },
     "metadata": {
      "needs_background": "light"
     },
     "output_type": "display_data"
    }
   ],
   "source": [
    "#perform linear regression\n",
    "n_slope, n_int, n_r, n_p, n_std_err = stats.linregress(merged_df['Converted_Income (thousands)'],merged_df['Life Expectancy'])\n",
    "\n",
    "#regression equation line\n",
    "n_fit = n_slope * merged_df['Converted_Income (thousands)'] + n_int\n",
    "\n",
    "#line equation\n",
    "line_eq = 'y =' + str(round(n_slope,4)) + \"x +\" + str(round(n_int,2))\n",
    "\n",
    "fig = plt.figure()\n",
    "plt.scatter(merged_df['Converted_Income (thousands)'],merged_df['Life Expectancy'], edgecolors=\"black\")\n",
    "plt.grid(color='grey', linestyle='-', linewidth=1)\n",
    "plt.plot(merged_df['Converted_Income (thousands)'],n_fit,\"--\",color=\"red\")\n",
    "plt.annotate(line_eq,xy=(56,81.5),fontsize=15,color='blue')\n",
    "\n",
    "plt.xlabel(\"Income (thousands)\")\n",
    "plt.ylabel(\"Life Expectancy\")\n",
    "plt.title(\"Seven MN Metro Counties \\n Life Expectancy vs Avg Median Household Income (2010-2015)\")\n",
    "plt.show()\n",
    "\n",
    "fig.savefig('LifeExpectancy_vs_Income.png',dpi=300)\n"
   ]
  },
  {
   "cell_type": "code",
<<<<<<< HEAD
   "execution_count": 178,
=======
   "execution_count": 12,
>>>>>>> dbcf68af8348eaac0e080760393fd472bab195b5
   "metadata": {},
   "outputs": [
    {
     "name": "stdout",
     "output_type": "stream",
     "text": [
      "The r-value is 0.8558.\n",
      "The p-value is 0.014.\n",
      "The standard error is 0.0186.\n"
     ]
    }
   ],
   "source": [
    "print(f'The r-value is {round(n_r,4)}.')\n",
    "print(f'The p-value is {round(n_p,4)}.')\n",
    "print(f'The standard error is {round(n_std_err,4)}.')"
   ]
  },
  {
   "cell_type": "code",
<<<<<<< HEAD
=======
   "execution_count": 13,
   "metadata": {},
   "outputs": [
    {
     "name": "stdout",
     "output_type": "stream",
     "text": [
      "The correlation coefficient is 0.8558207182130088.\n"
     ]
    }
   ],
   "source": [
    "coef = stats.pearsonr(merged_df['Converted_Income (thousands)'], merged_df['Life Expectancy'])\n",
    "print(f'The correlation coefficient is {coef[0]}.')"
   ]
  },
  {
   "cell_type": "markdown",
   "metadata": {},
   "source": [
    "## Summary of Findings"
   ]
  },
  {
   "cell_type": "markdown",
   "metadata": {},
   "source": [
    "* Ramsey and Hennepin county has lower average of median household from 2010-2015 (estimated 54,000 and 63,000 respectively). \n",
    "* Scott and Carver county has the higher average of median household from 2010-2015 (estimated 86,000 and 87,000 respectively).\n",
    "* There is a strong positive relationship (correlation coefficient: 0.8558) between average median household income and life expectancy.\n",
    "* With every additional 1,000 dollars in average median household income, this would increase the average life expectancy by 0.0688.  "
   ]
  },
  {
   "cell_type": "code",
>>>>>>> dbcf68af8348eaac0e080760393fd472bab195b5
   "execution_count": null,
   "metadata": {},
   "outputs": [],
   "source": []
  }
 ],
 "metadata": {
  "kernelspec": {
   "display_name": "Python 3",
   "language": "python",
   "name": "python3"
  },
  "language_info": {
   "codemirror_mode": {
    "name": "ipython",
    "version": 3
   },
   "file_extension": ".py",
   "mimetype": "text/x-python",
   "name": "python",
   "nbconvert_exporter": "python",
   "pygments_lexer": "ipython3",
   "version": "3.6.10"
  }
 },
 "nbformat": 4,
 "nbformat_minor": 4
}
