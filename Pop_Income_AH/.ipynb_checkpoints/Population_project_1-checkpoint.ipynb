{
 "cells": [
  {
   "cell_type": "code",
   "execution_count": 1,
   "metadata": {},
   "outputs": [],
   "source": [
    "import pandas as pd\n",
    "import matplotlib.pyplot as plt\n",
    "import numpy as np\n",
    "from scipy.stats import stats"
   ]
  },
  {
   "cell_type": "code",
   "execution_count": 2,
   "metadata": {},
   "outputs": [],
   "source": [
    "pop_csv = 'pop_data\\mn_county_pop_v2.csv'"
   ]
  },
  {
   "cell_type": "code",
   "execution_count": 3,
   "metadata": {},
   "outputs": [
    {
     "data": {
      "text/html": [
       "<div>\n",
       "<style scoped>\n",
       "    .dataframe tbody tr th:only-of-type {\n",
       "        vertical-align: middle;\n",
       "    }\n",
       "\n",
       "    .dataframe tbody tr th {\n",
       "        vertical-align: top;\n",
       "    }\n",
       "\n",
       "    .dataframe thead th {\n",
       "        text-align: right;\n",
       "    }\n",
       "</style>\n",
       "<table border=\"1\" class=\"dataframe\">\n",
       "  <thead>\n",
       "    <tr style=\"text-align: right;\">\n",
       "      <th></th>\n",
       "      <th>Geography Type</th>\n",
       "      <th>Geography Name</th>\n",
       "      <th>Year</th>\n",
       "      <th>Population</th>\n",
       "      <th>Households</th>\n",
       "      <th>Persons Per Household (PPH)</th>\n",
       "    </tr>\n",
       "  </thead>\n",
       "  <tbody>\n",
       "    <tr>\n",
       "      <th>0</th>\n",
       "      <td>State</td>\n",
       "      <td>Minnesota</td>\n",
       "      <td>2018</td>\n",
       "      <td>5629416.0</td>\n",
       "      <td>2221628.0</td>\n",
       "      <td>2.47</td>\n",
       "    </tr>\n",
       "    <tr>\n",
       "      <th>1</th>\n",
       "      <td>County</td>\n",
       "      <td>Aitkin</td>\n",
       "      <td>2018</td>\n",
       "      <td>15896.0</td>\n",
       "      <td>7359.0</td>\n",
       "      <td>2.12</td>\n",
       "    </tr>\n",
       "    <tr>\n",
       "      <th>2</th>\n",
       "      <td>County</td>\n",
       "      <td>Anoka</td>\n",
       "      <td>2018</td>\n",
       "      <td>357851.0</td>\n",
       "      <td>130596.0</td>\n",
       "      <td>2.71</td>\n",
       "    </tr>\n",
       "    <tr>\n",
       "      <th>3</th>\n",
       "      <td>County</td>\n",
       "      <td>Becker</td>\n",
       "      <td>2018</td>\n",
       "      <td>34420.0</td>\n",
       "      <td>14165.0</td>\n",
       "      <td>2.40</td>\n",
       "    </tr>\n",
       "    <tr>\n",
       "      <th>4</th>\n",
       "      <td>County</td>\n",
       "      <td>Beltrami</td>\n",
       "      <td>2018</td>\n",
       "      <td>46834.0</td>\n",
       "      <td>18039.0</td>\n",
       "      <td>2.48</td>\n",
       "    </tr>\n",
       "  </tbody>\n",
       "</table>\n",
       "</div>"
      ],
      "text/plain": [
       "  Geography Type Geography Name  Year  Population  Households  \\\n",
       "0          State      Minnesota  2018   5629416.0   2221628.0   \n",
       "1         County         Aitkin  2018     15896.0      7359.0   \n",
       "2         County          Anoka  2018    357851.0    130596.0   \n",
       "3         County         Becker  2018     34420.0     14165.0   \n",
       "4         County       Beltrami  2018     46834.0     18039.0   \n",
       "\n",
       "   Persons Per Household (PPH)  \n",
       "0                         2.47  \n",
       "1                         2.12  \n",
       "2                         2.71  \n",
       "3                         2.40  \n",
       "4                         2.48  "
      ]
     },
     "execution_count": 3,
     "metadata": {},
     "output_type": "execute_result"
    }
   ],
   "source": [
    "pop_csv = pd.read_csv(pop_csv, encoding=\"utf-8\")\n",
    "\n",
    "pop_csv.head()"
   ]
  },
  {
   "cell_type": "code",
   "execution_count": 4,
   "metadata": {
    "scrolled": true
   },
   "outputs": [
    {
     "name": "stdout",
     "output_type": "stream",
     "text": [
      "42\n"
     ]
    }
   ],
   "source": [
    "#extract column info needed\n",
    "array = ['Anoka', 'Carver', 'Hennepin', 'Dakota', 'Ramsey',\n",
    "        'Scott', 'Washington']\n",
    "pop_df = pop_csv.loc[pop_csv['Geography Name'].isin(array)]\n",
    "\n",
    "array1 = [2010,2011,2012,2013,2014,2015]\n",
    "pop_df1 = pop_df.loc[pop_df['Year'].isin(array1)]\n",
    "pop_df1 = pop_df1.sort_values(by= 'Year',ascending='False')\n",
    "\n",
    "print(len(pop_df1))\n"
   ]
  },
  {
   "cell_type": "code",
   "execution_count": 5,
   "metadata": {},
   "outputs": [
    {
     "data": {
      "text/html": [
       "<div>\n",
       "<style scoped>\n",
       "    .dataframe tbody tr th:only-of-type {\n",
       "        vertical-align: middle;\n",
       "    }\n",
       "\n",
       "    .dataframe tbody tr th {\n",
       "        vertical-align: top;\n",
       "    }\n",
       "\n",
       "    .dataframe thead th {\n",
       "        text-align: right;\n",
       "    }\n",
       "</style>\n",
       "<table border=\"1\" class=\"dataframe\">\n",
       "  <thead>\n",
       "    <tr style=\"text-align: right;\">\n",
       "      <th></th>\n",
       "      <th>Geography Type</th>\n",
       "      <th>Geography Name</th>\n",
       "      <th>Year</th>\n",
       "      <th>Population</th>\n",
       "      <th>Households</th>\n",
       "      <th>Persons Per Household (PPH)</th>\n",
       "      <th>Population Density</th>\n",
       "    </tr>\n",
       "  </thead>\n",
       "  <tbody>\n",
       "    <tr>\n",
       "      <th>890</th>\n",
       "      <td>County</td>\n",
       "      <td>Washington</td>\n",
       "      <td>2010</td>\n",
       "      <td>238136.0</td>\n",
       "      <td>87859.0</td>\n",
       "      <td>2.67</td>\n",
       "      <td></td>\n",
       "    </tr>\n",
       "    <tr>\n",
       "      <th>810</th>\n",
       "      <td>County</td>\n",
       "      <td>Anoka</td>\n",
       "      <td>2010</td>\n",
       "      <td>330844.0</td>\n",
       "      <td>121227.0</td>\n",
       "      <td>2.70</td>\n",
       "      <td></td>\n",
       "    </tr>\n",
       "    <tr>\n",
       "      <th>818</th>\n",
       "      <td>County</td>\n",
       "      <td>Carver</td>\n",
       "      <td>2010</td>\n",
       "      <td>91042.0</td>\n",
       "      <td>32891.0</td>\n",
       "      <td>2.74</td>\n",
       "      <td></td>\n",
       "    </tr>\n",
       "    <tr>\n",
       "      <th>878</th>\n",
       "      <td>County</td>\n",
       "      <td>Scott</td>\n",
       "      <td>2010</td>\n",
       "      <td>129928.0</td>\n",
       "      <td>45108.0</td>\n",
       "      <td>2.85</td>\n",
       "      <td></td>\n",
       "    </tr>\n",
       "    <tr>\n",
       "      <th>835</th>\n",
       "      <td>County</td>\n",
       "      <td>Hennepin</td>\n",
       "      <td>2010</td>\n",
       "      <td>1152425.0</td>\n",
       "      <td>475913.0</td>\n",
       "      <td>2.37</td>\n",
       "      <td></td>\n",
       "    </tr>\n",
       "  </tbody>\n",
       "</table>\n",
       "</div>"
      ],
      "text/plain": [
       "    Geography Type Geography Name  Year  Population  Households  \\\n",
       "890         County     Washington  2010    238136.0     87859.0   \n",
       "810         County          Anoka  2010    330844.0    121227.0   \n",
       "818         County         Carver  2010     91042.0     32891.0   \n",
       "878         County          Scott  2010    129928.0     45108.0   \n",
       "835         County       Hennepin  2010   1152425.0    475913.0   \n",
       "\n",
       "     Persons Per Household (PPH) Population Density  \n",
       "890                         2.67                     \n",
       "810                         2.70                     \n",
       "818                         2.74                     \n",
       "878                         2.85                     \n",
       "835                         2.37                     "
      ]
     },
     "execution_count": 5,
     "metadata": {},
     "output_type": "execute_result"
    }
   ],
   "source": [
    "#create Population Density column\n",
    "pop_df1['Population Density'] = ''\n",
    "pop_df1.head()"
   ]
  },
  {
   "cell_type": "code",
   "execution_count": 6,
   "metadata": {},
   "outputs": [],
   "source": [
    "#divide population by square mileage for population density\n",
    "#county square mileage\n",
    "an = 446\n",
    "ca = 376\n",
    "he = 607\n",
    "da = 587\n",
    "ra = 170\n",
    "sc = 368\n",
    "wa = 423\n",
    "\n",
    "for index, row in pop_df1.iterrows():\n",
    "    if row['Geography Name'] == 'Anoka':\n",
    "        anoka = (row['Population']/an)\n",
    "        pop_df1.loc[index, 'Population Density'] = anoka\n",
    "        \n",
    "    if row['Geography Name'] == 'Carver':\n",
    "        carver = row['Population']/ca\n",
    "        pop_df1.loc[index, 'Population Density'] =carver\n",
    "        \n",
    "    if row['Geography Name'] == 'Hennepin':\n",
    "        hennepin = row['Population']/he\n",
    "        pop_df1.loc[index, 'Population Density'] =hennepin\n",
    "        \n",
    "    if row['Geography Name'] == 'Dakota':\n",
    "        dakota = row['Population']/da\n",
    "        pop_df1.loc[index, 'Population Density'] =dakota\n",
    "        \n",
    "    if row['Geography Name'] == 'Ramsey':\n",
    "        ramsey = row['Population']/ra\n",
    "        pop_df1.loc[index, 'Population Density'] =ramsey\n",
    "        \n",
    "    if row['Geography Name'] == 'Scott':\n",
    "        scott = row['Population']/sc\n",
    "        pop_df1.loc[index, 'Population Density'] =scott\n",
    "        \n",
    "    if row['Geography Name'] == 'Washington':\n",
    "        washington = row['Population']/wa\n",
    "        pop_df1.loc[index, 'Population Density'] =washington\n"
   ]
  },
  {
   "cell_type": "code",
   "execution_count": 7,
   "metadata": {},
   "outputs": [
    {
     "data": {
      "text/html": [
       "<div>\n",
       "<style scoped>\n",
       "    .dataframe tbody tr th:only-of-type {\n",
       "        vertical-align: middle;\n",
       "    }\n",
       "\n",
       "    .dataframe tbody tr th {\n",
       "        vertical-align: top;\n",
       "    }\n",
       "\n",
       "    .dataframe thead th {\n",
       "        text-align: right;\n",
       "    }\n",
       "</style>\n",
       "<table border=\"1\" class=\"dataframe\">\n",
       "  <thead>\n",
       "    <tr style=\"text-align: right;\">\n",
       "      <th></th>\n",
       "      <th>Geography Type</th>\n",
       "      <th>Geography Name</th>\n",
       "      <th>Year</th>\n",
       "      <th>Population</th>\n",
       "      <th>Households</th>\n",
       "      <th>Persons Per Household (PPH)</th>\n",
       "      <th>Population Density</th>\n",
       "    </tr>\n",
       "  </thead>\n",
       "  <tbody>\n",
       "    <tr>\n",
       "      <th>890</th>\n",
       "      <td>County</td>\n",
       "      <td>Washington</td>\n",
       "      <td>2010</td>\n",
       "      <td>238136.0</td>\n",
       "      <td>87859.0</td>\n",
       "      <td>2.67</td>\n",
       "      <td>562</td>\n",
       "    </tr>\n",
       "    <tr>\n",
       "      <th>810</th>\n",
       "      <td>County</td>\n",
       "      <td>Anoka</td>\n",
       "      <td>2010</td>\n",
       "      <td>330844.0</td>\n",
       "      <td>121227.0</td>\n",
       "      <td>2.70</td>\n",
       "      <td>741</td>\n",
       "    </tr>\n",
       "    <tr>\n",
       "      <th>818</th>\n",
       "      <td>County</td>\n",
       "      <td>Carver</td>\n",
       "      <td>2010</td>\n",
       "      <td>91042.0</td>\n",
       "      <td>32891.0</td>\n",
       "      <td>2.74</td>\n",
       "      <td>242</td>\n",
       "    </tr>\n",
       "    <tr>\n",
       "      <th>878</th>\n",
       "      <td>County</td>\n",
       "      <td>Scott</td>\n",
       "      <td>2010</td>\n",
       "      <td>129928.0</td>\n",
       "      <td>45108.0</td>\n",
       "      <td>2.85</td>\n",
       "      <td>353</td>\n",
       "    </tr>\n",
       "    <tr>\n",
       "      <th>835</th>\n",
       "      <td>County</td>\n",
       "      <td>Hennepin</td>\n",
       "      <td>2010</td>\n",
       "      <td>1152425.0</td>\n",
       "      <td>475913.0</td>\n",
       "      <td>2.37</td>\n",
       "      <td>1898</td>\n",
       "    </tr>\n",
       "  </tbody>\n",
       "</table>\n",
       "</div>"
      ],
      "text/plain": [
       "    Geography Type Geography Name  Year  Population  Households  \\\n",
       "890         County     Washington  2010    238136.0     87859.0   \n",
       "810         County          Anoka  2010    330844.0    121227.0   \n",
       "818         County         Carver  2010     91042.0     32891.0   \n",
       "878         County          Scott  2010    129928.0     45108.0   \n",
       "835         County       Hennepin  2010   1152425.0    475913.0   \n",
       "\n",
       "     Persons Per Household (PPH)  Population Density  \n",
       "890                         2.67                 562  \n",
       "810                         2.70                 741  \n",
       "818                         2.74                 242  \n",
       "878                         2.85                 353  \n",
       "835                         2.37                1898  "
      ]
     },
     "execution_count": 7,
     "metadata": {},
     "output_type": "execute_result"
    }
   ],
   "source": [
    "#change population density datatype to integer\n",
    "pop_df1['Population Density'] = pop_df1['Population Density'].astype(int)\n",
    "\n",
    "pop_df1.head()"
   ]
  },
  {
   "cell_type": "code",
   "execution_count": 8,
   "metadata": {},
   "outputs": [
    {
     "data": {
      "text/html": [
       "<div>\n",
       "<style scoped>\n",
       "    .dataframe tbody tr th:only-of-type {\n",
       "        vertical-align: middle;\n",
       "    }\n",
       "\n",
       "    .dataframe tbody tr th {\n",
       "        vertical-align: top;\n",
       "    }\n",
       "\n",
       "    .dataframe thead th {\n",
       "        text-align: right;\n",
       "    }\n",
       "</style>\n",
       "<table border=\"1\" class=\"dataframe\">\n",
       "  <thead>\n",
       "    <tr style=\"text-align: right;\">\n",
       "      <th></th>\n",
       "      <th>Geography Name</th>\n",
       "      <th>Population Density</th>\n",
       "    </tr>\n",
       "  </thead>\n",
       "  <tbody>\n",
       "    <tr>\n",
       "      <th>0</th>\n",
       "      <td>Anoka</td>\n",
       "      <td>758.33</td>\n",
       "    </tr>\n",
       "    <tr>\n",
       "      <th>1</th>\n",
       "      <td>Carver</td>\n",
       "      <td>251.17</td>\n",
       "    </tr>\n",
       "    <tr>\n",
       "      <th>2</th>\n",
       "      <td>Dakota</td>\n",
       "      <td>692.17</td>\n",
       "    </tr>\n",
       "    <tr>\n",
       "      <th>3</th>\n",
       "      <td>Hennepin</td>\n",
       "      <td>1955.33</td>\n",
       "    </tr>\n",
       "    <tr>\n",
       "      <th>4</th>\n",
       "      <td>Ramsey</td>\n",
       "      <td>3063.50</td>\n",
       "    </tr>\n",
       "    <tr>\n",
       "      <th>5</th>\n",
       "      <td>Scott</td>\n",
       "      <td>367.00</td>\n",
       "    </tr>\n",
       "    <tr>\n",
       "      <th>6</th>\n",
       "      <td>Washington</td>\n",
       "      <td>578.67</td>\n",
       "    </tr>\n",
       "  </tbody>\n",
       "</table>\n",
       "</div>"
      ],
      "text/plain": [
       "  Geography Name  Population Density\n",
       "0          Anoka              758.33\n",
       "1         Carver              251.17\n",
       "2         Dakota              692.17\n",
       "3       Hennepin             1955.33\n",
       "4         Ramsey             3063.50\n",
       "5          Scott              367.00\n",
       "6     Washington              578.67"
      ]
     },
     "execution_count": 8,
     "metadata": {},
     "output_type": "execute_result"
    }
   ],
   "source": [
    "#drop irrelevant data columns\n",
    "pop_df1 = pop_df1.drop(['Geography Type', 'Population', 'Households', 'Persons Per Household (PPH)','Year'], axis=1)\n",
    "pop_df1 = round(pop_df1.groupby('Geography Name').mean(),2)\n",
    "pop_df2 = pop_df1.reset_index()\n",
    "\n",
    "pop_df2.to_csv('pop_density_final.csv')\n",
    "pop_df2\n"
   ]
  },
  {
   "cell_type": "code",
   "execution_count": 9,
   "metadata": {},
   "outputs": [
    {
     "data": {
      "text/html": [
       "<div>\n",
       "<style scoped>\n",
       "    .dataframe tbody tr th:only-of-type {\n",
       "        vertical-align: middle;\n",
       "    }\n",
       "\n",
       "    .dataframe tbody tr th {\n",
       "        vertical-align: top;\n",
       "    }\n",
       "\n",
       "    .dataframe thead th {\n",
       "        text-align: right;\n",
       "    }\n",
       "</style>\n",
       "<table border=\"1\" class=\"dataframe\">\n",
       "  <thead>\n",
       "    <tr style=\"text-align: right;\">\n",
       "      <th></th>\n",
       "      <th>County</th>\n",
       "      <th>Life Expectancy</th>\n",
       "    </tr>\n",
       "  </thead>\n",
       "  <tbody>\n",
       "    <tr>\n",
       "      <th>0</th>\n",
       "      <td>Anoka</td>\n",
       "      <td>80.140260</td>\n",
       "    </tr>\n",
       "    <tr>\n",
       "      <th>1</th>\n",
       "      <td>Carver</td>\n",
       "      <td>82.370588</td>\n",
       "    </tr>\n",
       "    <tr>\n",
       "      <th>2</th>\n",
       "      <td>Dakota</td>\n",
       "      <td>80.683333</td>\n",
       "    </tr>\n",
       "    <tr>\n",
       "      <th>3</th>\n",
       "      <td>Hennepin</td>\n",
       "      <td>80.320438</td>\n",
       "    </tr>\n",
       "    <tr>\n",
       "      <th>4</th>\n",
       "      <td>Ramsey</td>\n",
       "      <td>79.533846</td>\n",
       "    </tr>\n",
       "    <tr>\n",
       "      <th>5</th>\n",
       "      <td>Scott</td>\n",
       "      <td>80.809524</td>\n",
       "    </tr>\n",
       "    <tr>\n",
       "      <th>6</th>\n",
       "      <td>Washington</td>\n",
       "      <td>81.847917</td>\n",
       "    </tr>\n",
       "  </tbody>\n",
       "</table>\n",
       "</div>"
      ],
      "text/plain": [
       "        County  Life Expectancy\n",
       "0       Anoka         80.140260\n",
       "1      Carver         82.370588\n",
       "2      Dakota         80.683333\n",
       "3    Hennepin         80.320438\n",
       "4      Ramsey         79.533846\n",
       "5       Scott         80.809524\n",
       "6  Washington         81.847917"
      ]
     },
     "execution_count": 9,
     "metadata": {},
     "output_type": "execute_result"
    }
   ],
   "source": [
    "life_path = 'life_data\\life.csv'\n",
    "life_df = pd.read_csv(life_path)\n",
    "life_df = life_df.drop(['Unnamed: 0'], axis =1)\n",
    "life_df['County'] = life_df['County'].str.replace(\"County, MN\", \"\", case = False)\n",
    "life_df"
   ]
  },
  {
   "cell_type": "code",
   "execution_count": 10,
   "metadata": {},
   "outputs": [
    {
     "data": {
      "text/html": [
       "<div>\n",
       "<style scoped>\n",
       "    .dataframe tbody tr th:only-of-type {\n",
       "        vertical-align: middle;\n",
       "    }\n",
       "\n",
       "    .dataframe tbody tr th {\n",
       "        vertical-align: top;\n",
       "    }\n",
       "\n",
       "    .dataframe thead th {\n",
       "        text-align: right;\n",
       "    }\n",
       "</style>\n",
       "<table border=\"1\" class=\"dataframe\">\n",
       "  <thead>\n",
       "    <tr style=\"text-align: right;\">\n",
       "      <th></th>\n",
       "      <th>County</th>\n",
       "      <th>Life Expectancy</th>\n",
       "      <th>Population Density</th>\n",
       "    </tr>\n",
       "  </thead>\n",
       "  <tbody>\n",
       "    <tr>\n",
       "      <th>0</th>\n",
       "      <td>Anoka</td>\n",
       "      <td>80.140260</td>\n",
       "      <td>758.33</td>\n",
       "    </tr>\n",
       "    <tr>\n",
       "      <th>1</th>\n",
       "      <td>Carver</td>\n",
       "      <td>82.370588</td>\n",
       "      <td>251.17</td>\n",
       "    </tr>\n",
       "    <tr>\n",
       "      <th>2</th>\n",
       "      <td>Dakota</td>\n",
       "      <td>80.683333</td>\n",
       "      <td>692.17</td>\n",
       "    </tr>\n",
       "    <tr>\n",
       "      <th>3</th>\n",
       "      <td>Hennepin</td>\n",
       "      <td>80.320438</td>\n",
       "      <td>1955.33</td>\n",
       "    </tr>\n",
       "    <tr>\n",
       "      <th>4</th>\n",
       "      <td>Ramsey</td>\n",
       "      <td>79.533846</td>\n",
       "      <td>3063.50</td>\n",
       "    </tr>\n",
       "    <tr>\n",
       "      <th>5</th>\n",
       "      <td>Scott</td>\n",
       "      <td>80.809524</td>\n",
       "      <td>367.00</td>\n",
       "    </tr>\n",
       "    <tr>\n",
       "      <th>6</th>\n",
       "      <td>Washington</td>\n",
       "      <td>81.847917</td>\n",
       "      <td>578.67</td>\n",
       "    </tr>\n",
       "  </tbody>\n",
       "</table>\n",
       "</div>"
      ],
      "text/plain": [
       "        County  Life Expectancy  Population Density\n",
       "0       Anoka         80.140260              758.33\n",
       "1      Carver         82.370588              251.17\n",
       "2      Dakota         80.683333              692.17\n",
       "3    Hennepin         80.320438             1955.33\n",
       "4      Ramsey         79.533846             3063.50\n",
       "5       Scott         80.809524              367.00\n",
       "6  Washington         81.847917              578.67"
      ]
     },
     "execution_count": 10,
     "metadata": {},
     "output_type": "execute_result"
    }
   ],
   "source": [
    "#merge the two data frames for population density and life expectancy\n",
    "combined_df = pd.concat([life_df,pop_df2],axis =1,sort=True)\n",
    "combined_df = combined_df.drop(['Geography Name'],axis=1)\n",
    "combined_df"
   ]
  },
  {
   "cell_type": "code",
   "execution_count": 11,
   "metadata": {},
   "outputs": [
    {
     "data": {
      "image/png": "[encoded data removed]",
      "text/plain": [
       "<Figure size 432x288 with 1 Axes>"
      ]
     },
     "metadata": {
      "needs_background": "light"
     },
     "output_type": "display_data"
    },
    {
     "data": {
      "text/plain": [
       "<Figure size 432x288 with 0 Axes>"
      ]
     },
     "metadata": {},
     "output_type": "display_data"
    }
   ],
   "source": [
    "#create bar chart\n",
    "x_axis = np.arange(len(combined_df))\n",
    "tick_locations = [value for value in x_axis]\n",
    "\n",
    "plt.bar(x_axis, combined_df['Population Density'], color ='g',alpha=0.5, align=\"center\")\n",
    "plt.xticks(tick_locations, combined_df['County'],rotation ='45')\n",
    "plt.ylabel('Population Density (p/sq mile)')\n",
    "plt.title('Seven MN Metro Counties \\n Population Density (2010-2015)')\n",
    "\n",
    "#get curret figure with plt.gcf()\n",
    "fig1 = plt.gcf()\n",
    "plt.tight_layout()\n",
    "plt.show()\n",
    "plt.draw()\n",
    "fig1.savefig('pop_barchart.png',dpi = 300)"
   ]
  },
  {
   "cell_type": "code",
   "execution_count": 12,
   "metadata": {},
   "outputs": [
    {
     "data": {
      "image/png": "[encoded data removed]",
      "text/plain": [
       "<Figure size 432x288 with 1 Axes>"
      ]
     },
     "metadata": {
      "needs_background": "light"
     },
     "output_type": "display_data"
    }
   ],
   "source": [
    "#create scatter plot\n",
    "plt.scatter(combined_df['Population Density'],combined_df['Life Expectancy'], edgecolors='black')\n",
    "plt.grid(color='grey', linestyle='-', linewidth=1)\n",
    "plt.xlabel('Population Density')\n",
    "plt.ylabel('Life Expectancy')\n",
    "plt.title('Seven MN Metro Counties \\n Life Expectancy vs Population Density (2010-2015)')\n",
    "plt.show()"
   ]
  },
  {
   "cell_type": "code",
   "execution_count": 13,
   "metadata": {},
   "outputs": [
    {
     "data": {
      "image/png": "[encoded data removed]",
      "text/plain": [
       "<Figure size 432x288 with 1 Axes>"
      ]
     },
     "metadata": {
      "needs_background": "light"
     },
     "output_type": "display_data"
    }
   ],
   "source": [
    "#perform linear regression\n",
    "p_slope, p_int, p_r, p_p, p_std_err = stats.linregress(combined_df['Population Density'],combined_df['Life Expectancy'])\n",
    "\n",
    "#regression equation line\n",
    "p_fit = p_slope * combined_df['Population Density'] + p_int\n",
    "\n",
    "#line equation\n",
    "line_eq = 'y =' + str(round(p_slope,4)) + \"x + \" + str(round(p_int,2))\n",
    "\n",
    "#plot labels\n",
    "x = combined_df['Population Density']\n",
    "y = combined_df['Life Expectancy']\n",
    "z = combined_df['County']\n",
    "\n",
    "fig, ax = plt.subplots()\n",
    "plt.scatter(combined_df['Population Density'],combined_df['Life Expectancy'], edgecolors=\"black\")\n",
    "plt.grid(color='grey', linestyle='-', linewidth=1)\n",
    "plt.plot(combined_df['Population Density'],p_fit,\"--\",color=\"red\")\n",
    "plt.annotate(line_eq,xy=(1500,81.5),fontsize=15,color='blue')\n",
    "\n",
    "\n",
    "#for loop to print labels on the plots\n",
    "for i, txt in enumerate(z):\n",
    "    ax.annotate(txt, (x[i], y[i]), textcoords=\"offset points\", # how to position the text\n",
    "                 xytext=(5,0),ha='left')\n",
    "\n",
    "plt.xlabel(\"Population Density\")\n",
    "plt.ylabel(\"Life Expectancy\")\n",
    "plt.title(\"Seven MN Metro Counties \\n Life Expectancy vs Population Density (2010-2015)\")\n",
    "plt.show()\n",
    "fig.savefig('LifeExpectancy_vs_Pop.png',dpi=300)"
   ]
  },
  {
   "cell_type": "code",
   "execution_count": 14,
   "metadata": {},
   "outputs": [
    {
     "name": "stdout",
     "output_type": "stream",
     "text": [
      "The r-value is -0.73727.\n",
      "The p-value is 0.05864.\n",
      "The standard error is 0.00029.\n"
     ]
    }
   ],
   "source": [
    "print(f'The r-value is {round(p_r,5)}.')\n",
    "print(f'The p-value is {round(p_p,5)}.')\n",
    "print(f'The standard error is {round(p_std_err,5)}.')"
   ]
  },
  {
   "cell_type": "code",
   "execution_count": 15,
   "metadata": {},
   "outputs": [
    {
     "name": "stdout",
     "output_type": "stream",
     "text": [
      "The correlation coefficient is -0.7372697767505925.\n"
     ]
    }
   ],
   "source": [
    "coef = stats.pearsonr(combined_df['Population Density'], combined_df['Life Expectancy'])\n",
    "print(f'The correlation coefficient is {coef[0]}.')"
   ]
  },
  {
   "cell_type": "markdown",
   "metadata": {},
   "source": [
    "## Summary of Findings"
   ]
  },
  {
   "cell_type": "markdown",
   "metadata": {},
   "source": [
    "* Ramsey and Hennepin county has the highest population density from 2010-2015 (3,063 and 1,955 respectively). \n",
    "* Carver and Scott county has the lowest population density from 2010-2015 (251 and 367 respectively).\n",
    "* There is a strong negative relationship (correlation coefficient: -0.73) between population density and life expectancy.\n",
    "* With every additional one unit increase in population density, life expectancy on average would decrease by  0.0007."
   ]
  },
  {
   "cell_type": "code",
   "execution_count": null,
   "metadata": {},
   "outputs": [],
   "source": []
  }
 ],
 "metadata": {
  "kernelspec": {
   "display_name": "Python 3",
   "language": "python",
   "name": "python3"
  },
  "language_info": {
   "codemirror_mode": {
    "name": "ipython",
    "version": 3
   },
   "file_extension": ".py",
   "mimetype": "text/x-python",
   "name": "python",
   "nbconvert_exporter": "python",
   "pygments_lexer": "ipython3",
   "version": "3.6.10"
  }
 },
 "nbformat": 4,
 "nbformat_minor": 4
}
